{
 "cells": [
  {
   "cell_type": "markdown",
   "metadata": {},
   "source": [
    "## Practica SQLite\n",
    "\n",
    "# Analisis de Datos Masivos\n",
    "## Introduccion a las Series en pandas\n",
    "## Profe:\n",
    "## Jose Gabriel Rodriguez Rivas\n",
    "# Yo mero:\n",
    "# Guillermo Villarreal Gallegos"
   ]
  },
  {
   "cell_type": "code",
   "execution_count": 14,
   "metadata": {},
   "outputs": [],
   "source": [
    "# this is the library to talk to the database\n",
    "import sqlite3\n",
    "import pandas as pd\n",
    "# this is a library for data visualization\n",
    "from matplotlib import pyplot as plt\n",
    "# this is to say that we want our plots to be part of this page, and not opened in a new window\n",
    "%matplotlib inline"
   ]
  },
  {
   "cell_type": "code",
   "execution_count": 2,
   "metadata": {},
   "outputs": [],
   "source": [
    "conn = sqlite3.connect('./phonebook.db')"
   ]
  },
  {
   "cell_type": "code",
   "execution_count": 3,
   "metadata": {},
   "outputs": [],
   "source": [
    "cur = conn.cursor()"
   ]
  },
  {
   "cell_type": "code",
   "execution_count": 4,
   "metadata": {},
   "outputs": [
    {
     "name": "stdout",
     "output_type": "stream",
     "text": [
      "('Han Solo',)\n",
      "('Leia Skywalker',)\n",
      "('Leia Skywalker',)\n",
      "('Luke Skywalker',)\n",
      "('Obi-Wan Kenobi',)\n",
      "('Anakin Skywalker',)\n",
      "('Jabba The Hutt',)\n",
      "('Greedo',)\n",
      "('R2D2',)\n",
      "('C3PO',)\n"
     ]
    }
   ],
   "source": [
    "query = \"SELECT name FROM coworkers;\"\n",
    "cur.execute(query)\n",
    "\n",
    "for row in cur:\n",
    "    print(row)"
   ]
  },
  {
   "cell_type": "markdown",
   "metadata": {},
   "source": [
    "## Proporcione el código para consultar los nombres de todas las princesas."
   ]
  },
  {
   "cell_type": "code",
   "execution_count": 10,
   "metadata": {},
   "outputs": [
    {
     "name": "stdout",
     "output_type": "stream",
     "text": [
      "('Leia Skywalker',)\n",
      "('Leia Skywalker',)\n"
     ]
    }
   ],
   "source": [
    "ConsultaUno = \"select name from coworkers WHERE title = 'Princess';\"\n",
    "cur.execute(ConsultaUno)\n",
    "for row in cur:\n",
    "    print(row)"
   ]
  },
  {
   "cell_type": "markdown",
   "metadata": {},
   "source": [
    "## Proporcione el código para consultar los nombres de todas las princesas y los recaudadores."
   ]
  },
  {
   "cell_type": "code",
   "execution_count": 11,
   "metadata": {},
   "outputs": [
    {
     "name": "stdout",
     "output_type": "stream",
     "text": [
      "('Han Solo',)\n",
      "('Leia Skywalker',)\n",
      "('Leia Skywalker',)\n"
     ]
    }
   ],
   "source": [
    "ConsultaDos = \"select name from coworkers WHERE title = 'Princess' or title='Bounty Hunter';\"\n",
    "cur.execute(ConsultaDos)\n",
    "for row in cur:\n",
    "    print(row)"
   ]
  },
  {
   "cell_type": "markdown",
   "metadata": {},
   "source": [
    "## Proporcione el código para consultar los nombres y los números de todos los Jedi."
   ]
  },
  {
   "cell_type": "code",
   "execution_count": 12,
   "metadata": {},
   "outputs": [
    {
     "name": "stdout",
     "output_type": "stream",
     "text": [
      "('Luke Skywalker', 5558963267)\n",
      "('Obi-Wan Kenobi', 5558963276)\n"
     ]
    }
   ],
   "source": [
    "ConsultaTres = \"select name, number from coworkers WHERE title = 'Jedi';\"\n",
    "cur.execute(ConsultaTres)\n",
    "for row in cur:\n",
    "    print(row)\n",
    " "
   ]
  },
  {
   "cell_type": "markdown",
   "metadata": {},
   "source": [
    "## Proporcione el código para consultar los nombres de los droids."
   ]
  },
  {
   "cell_type": "code",
   "execution_count": 13,
   "metadata": {},
   "outputs": [
    {
     "name": "stdout",
     "output_type": "stream",
     "text": [
      "('R2D2',)\n"
     ]
    }
   ],
   "source": [
    "ConsultaCuatro = \"select name from coworkers where title='Astro Droid'\";\n",
    "cur.execute(ConsultaCuatro)\n",
    "for row in cur:\n",
    "    print(row)"
   ]
  },
  {
   "cell_type": "code",
   "execution_count": null,
   "metadata": {},
   "outputs": [],
   "source": []
  }
 ],
 "metadata": {
  "kernelspec": {
   "display_name": "Python 3",
   "language": "python",
   "name": "python3"
  },
  "language_info": {
   "codemirror_mode": {
    "name": "ipython",
    "version": 3
   },
   "file_extension": ".py",
   "mimetype": "text/x-python",
   "name": "python",
   "nbconvert_exporter": "python",
   "pygments_lexer": "ipython3",
   "version": "3.7.6"
  }
 },
 "nbformat": 4,
 "nbformat_minor": 4
}
