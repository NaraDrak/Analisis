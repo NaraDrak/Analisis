{
 "cells": [
  {
   "cell_type": "code",
   "execution_count": 69,
   "metadata": {
    "scrolled": true
   },
   "outputs": [
    {
     "data": {
      "text/html": [
       "<img src=\"https://4.bp.blogspot.com/-T6hVA66rPqE/WZLZoDdaKkI/AAAAAAAAbKQ/xsXqK2UvBaU0MPdnkriHymsXLdC7Qf62gCLcBGAs/s1600/itd.png\"/>"
      ],
      "text/plain": [
       "<IPython.core.display.Image object>"
      ]
     },
     "execution_count": 69,
     "metadata": {},
     "output_type": "execute_result"
    }
   ],
   "source": [
    "from IPython.display import Image\n",
    "from IPython.core.display import HTML \n",
    "Image(url= \"https://4.bp.blogspot.com/-T6hVA66rPqE/WZLZoDdaKkI/AAAAAAAAbKQ/xsXqK2UvBaU0MPdnkriHymsXLdC7Qf62gCLcBGAs/s1600/itd.png\")"
   ]
  },
  {
   "cell_type": "markdown",
   "metadata": {},
   "source": [
    "## Analisis de Datos\n",
    "## Análisis de correlación en Python\n",
    "## José Gabriel Rodriguez Rivas\n",
    "## Guillermo Villarreal Gallegos"
   ]
  },
  {
   "cell_type": "code",
   "execution_count": 28,
   "metadata": {},
   "outputs": [],
   "source": [
    "import pandas as pd\n",
    "import numpy as np\n",
    "import sklearn\n",
    "#create a pandas dataframe called \"training\" from the titanic-train.csv file\n",
    "training = pd.read_csv(\"titanic-train.csv\")"
   ]
  },
  {
   "cell_type": "markdown",
   "metadata": {},
   "source": [
    "Con los datos de arriba, ¿qué tipos de preguntas podemos hacer acerca de los factores que contribuyeron a que los pasajeros sobrevivan o fallecieran en la catástrofe del Titanic? el genero y el numero de cabina es importante"
   ]
  },
  {
   "cell_type": "code",
   "execution_count": 29,
   "metadata": {},
   "outputs": [
    {
     "name": "stdout",
     "output_type": "stream",
     "text": [
      "<class 'pandas.core.frame.DataFrame'>\n",
      "RangeIndex: 915 entries, 0 to 914\n",
      "Data columns (total 12 columns):\n",
      " #   Column       Non-Null Count  Dtype  \n",
      "---  ------       --------------  -----  \n",
      " 0   PassengerId  915 non-null    int64  \n",
      " 1   Survived     915 non-null    int64  \n",
      " 2   Pclass       915 non-null    int64  \n",
      " 3   Name         915 non-null    object \n",
      " 4   Gender       915 non-null    object \n",
      " 5   Age          738 non-null    float64\n",
      " 6   SibSp        915 non-null    int64  \n",
      " 7   Parch        915 non-null    int64  \n",
      " 8   Ticket       915 non-null    object \n",
      " 9   Fare         915 non-null    float64\n",
      " 10  Cabin        202 non-null    object \n",
      " 11  Embarked     914 non-null    object \n",
      "dtypes: float64(2), int64(5), object(5)\n",
      "memory usage: 85.9+ KB\n"
     ]
    }
   ],
   "source": [
    "training.info()"
   ]
  },
  {
   "cell_type": "markdown",
   "metadata": {},
   "source": [
    "¿Faltan valores en el conjunto de datos? algunos como valores de cabina y de edad, en el head de abajo se aprecia mejor "
   ]
  },
  {
   "cell_type": "code",
   "execution_count": 30,
   "metadata": {},
   "outputs": [
    {
     "data": {
      "text/html": [
       "<div>\n",
       "<style scoped>\n",
       "    .dataframe tbody tr th:only-of-type {\n",
       "        vertical-align: middle;\n",
       "    }\n",
       "\n",
       "    .dataframe tbody tr th {\n",
       "        vertical-align: top;\n",
       "    }\n",
       "\n",
       "    .dataframe thead th {\n",
       "        text-align: right;\n",
       "    }\n",
       "</style>\n",
       "<table border=\"1\" class=\"dataframe\">\n",
       "  <thead>\n",
       "    <tr style=\"text-align: right;\">\n",
       "      <th></th>\n",
       "      <th>PassengerId</th>\n",
       "      <th>Survived</th>\n",
       "      <th>Pclass</th>\n",
       "      <th>Name</th>\n",
       "      <th>Gender</th>\n",
       "      <th>Age</th>\n",
       "      <th>SibSp</th>\n",
       "      <th>Parch</th>\n",
       "      <th>Ticket</th>\n",
       "      <th>Fare</th>\n",
       "      <th>Cabin</th>\n",
       "      <th>Embarked</th>\n",
       "    </tr>\n",
       "  </thead>\n",
       "  <tbody>\n",
       "    <tr>\n",
       "      <th>0</th>\n",
       "      <td>1</td>\n",
       "      <td>0</td>\n",
       "      <td>1</td>\n",
       "      <td>Davidson, Mr. Thornton</td>\n",
       "      <td>male</td>\n",
       "      <td>31.0</td>\n",
       "      <td>1</td>\n",
       "      <td>0</td>\n",
       "      <td>F.C. 12750</td>\n",
       "      <td>52.0000</td>\n",
       "      <td>B71</td>\n",
       "      <td>S</td>\n",
       "    </tr>\n",
       "    <tr>\n",
       "      <th>1</th>\n",
       "      <td>2</td>\n",
       "      <td>0</td>\n",
       "      <td>3</td>\n",
       "      <td>Asim, Mr. Adola</td>\n",
       "      <td>male</td>\n",
       "      <td>35.0</td>\n",
       "      <td>0</td>\n",
       "      <td>0</td>\n",
       "      <td>SOTON/O.Q. 3101310</td>\n",
       "      <td>7.0500</td>\n",
       "      <td>NaN</td>\n",
       "      <td>S</td>\n",
       "    </tr>\n",
       "    <tr>\n",
       "      <th>2</th>\n",
       "      <td>3</td>\n",
       "      <td>0</td>\n",
       "      <td>3</td>\n",
       "      <td>Nankoff, Mr. Minko</td>\n",
       "      <td>male</td>\n",
       "      <td>NaN</td>\n",
       "      <td>0</td>\n",
       "      <td>0</td>\n",
       "      <td>349218</td>\n",
       "      <td>7.8958</td>\n",
       "      <td>NaN</td>\n",
       "      <td>S</td>\n",
       "    </tr>\n",
       "    <tr>\n",
       "      <th>3</th>\n",
       "      <td>4</td>\n",
       "      <td>0</td>\n",
       "      <td>1</td>\n",
       "      <td>Thayer, Mr. John Borland</td>\n",
       "      <td>male</td>\n",
       "      <td>49.0</td>\n",
       "      <td>1</td>\n",
       "      <td>1</td>\n",
       "      <td>17421</td>\n",
       "      <td>110.8833</td>\n",
       "      <td>C68</td>\n",
       "      <td>C</td>\n",
       "    </tr>\n",
       "    <tr>\n",
       "      <th>4</th>\n",
       "      <td>5</td>\n",
       "      <td>0</td>\n",
       "      <td>3</td>\n",
       "      <td>Strandberg, Miss. Ida Sofia</td>\n",
       "      <td>female</td>\n",
       "      <td>22.0</td>\n",
       "      <td>0</td>\n",
       "      <td>0</td>\n",
       "      <td>7553</td>\n",
       "      <td>9.8375</td>\n",
       "      <td>NaN</td>\n",
       "      <td>S</td>\n",
       "    </tr>\n",
       "  </tbody>\n",
       "</table>\n",
       "</div>"
      ],
      "text/plain": [
       "   PassengerId  Survived  Pclass                         Name  Gender   Age  \\\n",
       "0            1         0       1       Davidson, Mr. Thornton    male  31.0   \n",
       "1            2         0       3              Asim, Mr. Adola    male  35.0   \n",
       "2            3         0       3           Nankoff, Mr. Minko    male   NaN   \n",
       "3            4         0       1     Thayer, Mr. John Borland    male  49.0   \n",
       "4            5         0       3  Strandberg, Miss. Ida Sofia  female  22.0   \n",
       "\n",
       "   SibSp  Parch              Ticket      Fare Cabin Embarked  \n",
       "0      1      0          F.C. 12750   52.0000   B71        S  \n",
       "1      0      0  SOTON/O.Q. 3101310    7.0500   NaN        S  \n",
       "2      0      0              349218    7.8958   NaN        S  \n",
       "3      1      1               17421  110.8833   C68        C  \n",
       "4      0      0                7553    9.8375   NaN        S  "
      ]
     },
     "execution_count": 30,
     "metadata": {},
     "output_type": "execute_result"
    }
   ],
   "source": [
    "training.head()"
   ]
  },
  {
   "cell_type": "markdown",
   "metadata": {},
   "source": [
    "# Paso 2: Preparar los datos para el modelo de árbol de decisiones"
   ]
  },
  {
   "cell_type": "code",
   "execution_count": 31,
   "metadata": {},
   "outputs": [],
   "source": [
    "training[\"Gender\"] = training[\"Gender\"].apply(lambda toLabel: 0 if toLabel == 'male' else 1)"
   ]
  },
  {
   "cell_type": "code",
   "execution_count": 32,
   "metadata": {},
   "outputs": [
    {
     "data": {
      "text/html": [
       "<div>\n",
       "<style scoped>\n",
       "    .dataframe tbody tr th:only-of-type {\n",
       "        vertical-align: middle;\n",
       "    }\n",
       "\n",
       "    .dataframe tbody tr th {\n",
       "        vertical-align: top;\n",
       "    }\n",
       "\n",
       "    .dataframe thead th {\n",
       "        text-align: right;\n",
       "    }\n",
       "</style>\n",
       "<table border=\"1\" class=\"dataframe\">\n",
       "  <thead>\n",
       "    <tr style=\"text-align: right;\">\n",
       "      <th></th>\n",
       "      <th>PassengerId</th>\n",
       "      <th>Survived</th>\n",
       "      <th>Pclass</th>\n",
       "      <th>Name</th>\n",
       "      <th>Gender</th>\n",
       "      <th>Age</th>\n",
       "      <th>SibSp</th>\n",
       "      <th>Parch</th>\n",
       "      <th>Ticket</th>\n",
       "      <th>Fare</th>\n",
       "      <th>Cabin</th>\n",
       "      <th>Embarked</th>\n",
       "    </tr>\n",
       "  </thead>\n",
       "  <tbody>\n",
       "    <tr>\n",
       "      <th>0</th>\n",
       "      <td>1</td>\n",
       "      <td>0</td>\n",
       "      <td>1</td>\n",
       "      <td>Davidson, Mr. Thornton</td>\n",
       "      <td>0</td>\n",
       "      <td>31.0</td>\n",
       "      <td>1</td>\n",
       "      <td>0</td>\n",
       "      <td>F.C. 12750</td>\n",
       "      <td>52.0000</td>\n",
       "      <td>B71</td>\n",
       "      <td>S</td>\n",
       "    </tr>\n",
       "    <tr>\n",
       "      <th>1</th>\n",
       "      <td>2</td>\n",
       "      <td>0</td>\n",
       "      <td>3</td>\n",
       "      <td>Asim, Mr. Adola</td>\n",
       "      <td>0</td>\n",
       "      <td>35.0</td>\n",
       "      <td>0</td>\n",
       "      <td>0</td>\n",
       "      <td>SOTON/O.Q. 3101310</td>\n",
       "      <td>7.0500</td>\n",
       "      <td>NaN</td>\n",
       "      <td>S</td>\n",
       "    </tr>\n",
       "    <tr>\n",
       "      <th>2</th>\n",
       "      <td>3</td>\n",
       "      <td>0</td>\n",
       "      <td>3</td>\n",
       "      <td>Nankoff, Mr. Minko</td>\n",
       "      <td>0</td>\n",
       "      <td>NaN</td>\n",
       "      <td>0</td>\n",
       "      <td>0</td>\n",
       "      <td>349218</td>\n",
       "      <td>7.8958</td>\n",
       "      <td>NaN</td>\n",
       "      <td>S</td>\n",
       "    </tr>\n",
       "    <tr>\n",
       "      <th>3</th>\n",
       "      <td>4</td>\n",
       "      <td>0</td>\n",
       "      <td>1</td>\n",
       "      <td>Thayer, Mr. John Borland</td>\n",
       "      <td>0</td>\n",
       "      <td>49.0</td>\n",
       "      <td>1</td>\n",
       "      <td>1</td>\n",
       "      <td>17421</td>\n",
       "      <td>110.8833</td>\n",
       "      <td>C68</td>\n",
       "      <td>C</td>\n",
       "    </tr>\n",
       "    <tr>\n",
       "      <th>4</th>\n",
       "      <td>5</td>\n",
       "      <td>0</td>\n",
       "      <td>3</td>\n",
       "      <td>Strandberg, Miss. Ida Sofia</td>\n",
       "      <td>1</td>\n",
       "      <td>22.0</td>\n",
       "      <td>0</td>\n",
       "      <td>0</td>\n",
       "      <td>7553</td>\n",
       "      <td>9.8375</td>\n",
       "      <td>NaN</td>\n",
       "      <td>S</td>\n",
       "    </tr>\n",
       "  </tbody>\n",
       "</table>\n",
       "</div>"
      ],
      "text/plain": [
       "   PassengerId  Survived  Pclass                         Name  Gender   Age  \\\n",
       "0            1         0       1       Davidson, Mr. Thornton       0  31.0   \n",
       "1            2         0       3              Asim, Mr. Adola       0  35.0   \n",
       "2            3         0       3           Nankoff, Mr. Minko       0   NaN   \n",
       "3            4         0       1     Thayer, Mr. John Borland       0  49.0   \n",
       "4            5         0       3  Strandberg, Miss. Ida Sofia       1  22.0   \n",
       "\n",
       "   SibSp  Parch              Ticket      Fare Cabin Embarked  \n",
       "0      1      0          F.C. 12750   52.0000   B71        S  \n",
       "1      0      0  SOTON/O.Q. 3101310    7.0500   NaN        S  \n",
       "2      0      0              349218    7.8958   NaN        S  \n",
       "3      1      1               17421  110.8833   C68        C  \n",
       "4      0      0                7553    9.8375   NaN        S  "
      ]
     },
     "execution_count": 32,
     "metadata": {},
     "output_type": "execute_result"
    }
   ],
   "source": [
    "training.head()"
   ]
  },
  {
   "cell_type": "code",
   "execution_count": 33,
   "metadata": {},
   "outputs": [],
   "source": [
    "training[\"Age\"].fillna(training[\"Age\"].mean(), inplace=True)"
   ]
  },
  {
   "cell_type": "code",
   "execution_count": 34,
   "metadata": {},
   "outputs": [
    {
     "name": "stdout",
     "output_type": "stream",
     "text": [
      "<class 'pandas.core.frame.DataFrame'>\n",
      "RangeIndex: 915 entries, 0 to 914\n",
      "Data columns (total 12 columns):\n",
      " #   Column       Non-Null Count  Dtype  \n",
      "---  ------       --------------  -----  \n",
      " 0   PassengerId  915 non-null    int64  \n",
      " 1   Survived     915 non-null    int64  \n",
      " 2   Pclass       915 non-null    int64  \n",
      " 3   Name         915 non-null    object \n",
      " 4   Gender       915 non-null    int64  \n",
      " 5   Age          915 non-null    float64\n",
      " 6   SibSp        915 non-null    int64  \n",
      " 7   Parch        915 non-null    int64  \n",
      " 8   Ticket       915 non-null    object \n",
      " 9   Fare         915 non-null    float64\n",
      " 10  Cabin        202 non-null    object \n",
      " 11  Embarked     914 non-null    object \n",
      "dtypes: float64(2), int64(6), object(4)\n",
      "memory usage: 85.9+ KB\n"
     ]
    }
   ],
   "source": [
    "training.info()"
   ]
  },
  {
   "cell_type": "code",
   "execution_count": 71,
   "metadata": {},
   "outputs": [
    {
     "data": {
      "text/html": [
       "<div>\n",
       "<style scoped>\n",
       "    .dataframe tbody tr th:only-of-type {\n",
       "        vertical-align: middle;\n",
       "    }\n",
       "\n",
       "    .dataframe tbody tr th {\n",
       "        vertical-align: top;\n",
       "    }\n",
       "\n",
       "    .dataframe thead th {\n",
       "        text-align: right;\n",
       "    }\n",
       "</style>\n",
       "<table border=\"1\" class=\"dataframe\">\n",
       "  <thead>\n",
       "    <tr style=\"text-align: right;\">\n",
       "      <th></th>\n",
       "      <th>PassengerId</th>\n",
       "      <th>Survived</th>\n",
       "      <th>Pclass</th>\n",
       "      <th>Name</th>\n",
       "      <th>Gender</th>\n",
       "      <th>Age</th>\n",
       "      <th>SibSp</th>\n",
       "      <th>Parch</th>\n",
       "      <th>Ticket</th>\n",
       "      <th>Fare</th>\n",
       "      <th>Cabin</th>\n",
       "      <th>Embarked</th>\n",
       "    </tr>\n",
       "  </thead>\n",
       "  <tbody>\n",
       "    <tr>\n",
       "      <th>0</th>\n",
       "      <td>1</td>\n",
       "      <td>0</td>\n",
       "      <td>1</td>\n",
       "      <td>Davidson, Mr. Thornton</td>\n",
       "      <td>0</td>\n",
       "      <td>31.000000</td>\n",
       "      <td>1</td>\n",
       "      <td>0</td>\n",
       "      <td>F.C. 12750</td>\n",
       "      <td>52.0000</td>\n",
       "      <td>B71</td>\n",
       "      <td>S</td>\n",
       "    </tr>\n",
       "    <tr>\n",
       "      <th>1</th>\n",
       "      <td>2</td>\n",
       "      <td>0</td>\n",
       "      <td>3</td>\n",
       "      <td>Asim, Mr. Adola</td>\n",
       "      <td>0</td>\n",
       "      <td>35.000000</td>\n",
       "      <td>0</td>\n",
       "      <td>0</td>\n",
       "      <td>SOTON/O.Q. 3101310</td>\n",
       "      <td>7.0500</td>\n",
       "      <td>NaN</td>\n",
       "      <td>S</td>\n",
       "    </tr>\n",
       "    <tr>\n",
       "      <th>2</th>\n",
       "      <td>3</td>\n",
       "      <td>0</td>\n",
       "      <td>3</td>\n",
       "      <td>Nankoff, Mr. Minko</td>\n",
       "      <td>0</td>\n",
       "      <td>29.970867</td>\n",
       "      <td>0</td>\n",
       "      <td>0</td>\n",
       "      <td>349218</td>\n",
       "      <td>7.8958</td>\n",
       "      <td>NaN</td>\n",
       "      <td>S</td>\n",
       "    </tr>\n",
       "    <tr>\n",
       "      <th>3</th>\n",
       "      <td>4</td>\n",
       "      <td>0</td>\n",
       "      <td>1</td>\n",
       "      <td>Thayer, Mr. John Borland</td>\n",
       "      <td>0</td>\n",
       "      <td>49.000000</td>\n",
       "      <td>1</td>\n",
       "      <td>1</td>\n",
       "      <td>17421</td>\n",
       "      <td>110.8833</td>\n",
       "      <td>C68</td>\n",
       "      <td>C</td>\n",
       "    </tr>\n",
       "    <tr>\n",
       "      <th>4</th>\n",
       "      <td>5</td>\n",
       "      <td>0</td>\n",
       "      <td>3</td>\n",
       "      <td>Strandberg, Miss. Ida Sofia</td>\n",
       "      <td>1</td>\n",
       "      <td>22.000000</td>\n",
       "      <td>0</td>\n",
       "      <td>0</td>\n",
       "      <td>7553</td>\n",
       "      <td>9.8375</td>\n",
       "      <td>NaN</td>\n",
       "      <td>S</td>\n",
       "    </tr>\n",
       "  </tbody>\n",
       "</table>\n",
       "</div>"
      ],
      "text/plain": [
       "   PassengerId  Survived  Pclass                         Name  Gender  \\\n",
       "0            1         0       1       Davidson, Mr. Thornton       0   \n",
       "1            2         0       3              Asim, Mr. Adola       0   \n",
       "2            3         0       3           Nankoff, Mr. Minko       0   \n",
       "3            4         0       1     Thayer, Mr. John Borland       0   \n",
       "4            5         0       3  Strandberg, Miss. Ida Sofia       1   \n",
       "\n",
       "         Age  SibSp  Parch              Ticket      Fare Cabin Embarked  \n",
       "0  31.000000      1      0          F.C. 12750   52.0000   B71        S  \n",
       "1  35.000000      0      0  SOTON/O.Q. 3101310    7.0500   NaN        S  \n",
       "2  29.970867      0      0              349218    7.8958   NaN        S  \n",
       "3  49.000000      1      1               17421  110.8833   C68        C  \n",
       "4  22.000000      0      0                7553    9.8375   NaN        S  "
      ]
     },
     "execution_count": 71,
     "metadata": {},
     "output_type": "execute_result"
    }
   ],
   "source": [
    "training.head()"
   ]
  },
  {
   "cell_type": "markdown",
   "metadata": {},
   "source": [
    "¿Cuál es el valor que se utilizó para reemplazar a las edades faltantes?\n",
    "\n",
    "29.970867"
   ]
  },
  {
   "cell_type": "markdown",
   "metadata": {},
   "source": [
    "# Paso 3: Entrenar y calificar el modelo del árbol de decisiones.\n",
    "\n",
    "a) Cree un objeto de arreglo con la variable que será el objetivo del modelo.\n",
    "\n",
    "El propósito del modelo es clasificar a los pasajeros como sobrevivientes o víctimas fatales. El conjunto de datos identifica sobrevivientes y víctimas fatales. El modelo deducirá qué valores variables de entrada tienen más probabilidad de pertenecer a las víctimas fatales y a los sobrevivientes. Luego, usted podrá utilizar dicha información para clasificar pasajeros de un conjunto de datos único de prueba."
   ]
  },
  {
   "cell_type": "code",
   "execution_count": 36,
   "metadata": {},
   "outputs": [],
   "source": [
    "y_target = training[\"Survived\"].values"
   ]
  },
  {
   "cell_type": "code",
   "execution_count": 37,
   "metadata": {},
   "outputs": [],
   "source": [
    "columns = [\"Fare\", \"Pclass\", \"Gender\", \"Age\", \"SibSp\"]\n",
    "#create the variable to hold the features that the classifier will use\n",
    "X_input = training[list(columns)].values"
   ]
  },
  {
   "cell_type": "code",
   "execution_count": 38,
   "metadata": {},
   "outputs": [],
   "source": [
    "from sklearn import tree\n",
    "\n",
    "#create clf_train as a decision tree classifier object\n",
    "clf_train = tree.DecisionTreeClassifier(criterion=\"entropy\", max_depth=3)\n",
    "\n",
    "#train the model using the fit() method of the decision tree object. \n",
    "#Supply the method with the input variable X_in\n",
    "clf_train = clf_train.fit(X_input, y_target)"
   ]
  },
  {
   "cell_type": "code",
   "execution_count": 39,
   "metadata": {},
   "outputs": [
    {
     "data": {
      "text/plain": [
       "0.8163934426229508"
      ]
     },
     "execution_count": 39,
     "metadata": {},
     "output_type": "execute_result"
    }
   ],
   "source": [
    "clf_train.score(X_input,y_target)"
   ]
  },
  {
   "cell_type": "markdown",
   "metadata": {},
   "source": [
    "# Paso 6: Visualizar el árbol\n",
    "\n",
    "a) Cree el resultado del archivo intermedio.\n",
    "\n",
    "Importe el módulo sklearn.externals.six StringIO que se utiliza para generar las características del árbol de decisiones en un archivo. Crearemos un archivo dot de Graphviz que nos permitirá exportar los resultados del clasificador en un formato que se puede convertir en gráfico."
   ]
  },
  {
   "cell_type": "code",
   "execution_count": 40,
   "metadata": {},
   "outputs": [],
   "source": [
    "clasificacion = ['No Sobrevive', 'Sobrevive']"
   ]
  },
  {
   "cell_type": "code",
   "execution_count": 41,
   "metadata": {},
   "outputs": [],
   "source": [
    "import sklearn\n",
    "import graphviz\n",
    "with open(\"titanic.dot\", 'w') as f:\n",
    "  f = tree.export_graphviz(clf_train, out_file=f, feature_names=columns,\n",
    "                          class_names = clasificacion)"
   ]
  },
  {
   "cell_type": "code",
   "execution_count": 43,
   "metadata": {},
   "outputs": [],
   "source": [
    "!dot -Tpng titanic.dot -o titanic.png"
   ]
  },
  {
   "cell_type": "code",
   "execution_count": 44,
   "metadata": {},
   "outputs": [
    {
     "data": {
      "image/png": "[encoded data removed]",
      "text/plain": [
       "<IPython.core.display.Image object>"
      ]
     },
     "execution_count": 44,
     "metadata": {},
     "output_type": "execute_result"
    }
   ],
   "source": [
    "from IPython.display import Image\n",
    "\n",
    "#display the decison tree graphic\n",
    "Image(\"titanic.png\")"
   ]
  },
  {
   "cell_type": "code",
   "execution_count": 45,
   "metadata": {},
   "outputs": [
    {
     "data": {
      "image/svg+xml": [
       "<?xml version=\"1.0\" encoding=\"UTF-8\" standalone=\"no\"?>\r\n",
       "<!DOCTYPE svg PUBLIC \"-//W3C//DTD SVG 1.1//EN\"\r\n",
       " \"http://www.w3.org/Graphics/SVG/1.1/DTD/svg11.dtd\">\r\n",
       "<!-- Generated by graphviz version 2.38.0 (20140413.2041)\r\n",
       " -->\r\n",
       "<!-- Title: Tree Pages: 1 -->\r\n",
       "<svg width=\"1276pt\" height=\"433pt\"\r\n",
       " viewBox=\"0.00 0.00 1276.00 433.00\" xmlns=\"http://www.w3.org/2000/svg\" xmlns:xlink=\"http://www.w3.org/1999/xlink\">\r\n",
       "<g id=\"graph0\" class=\"graph\" transform=\"scale(1 1) rotate(0) translate(4 429)\">\r\n",
       "<title>Tree</title>\r\n",
       "<polygon fill=\"white\" stroke=\"none\" points=\"-4,4 -4,-429 1272,-429 1272,4 -4,4\"/>\r\n",
       "<!-- 0 -->\r\n",
       "<g id=\"node1\" class=\"node\"><title>0</title>\r\n",
       "<path fill=\"#f4c8a9\" stroke=\"black\" d=\"M700,-425C700,-425 573,-425 573,-425 567,-425 561,-419 561,-413 561,-413 561,-354 561,-354 561,-348 567,-342 573,-342 573,-342 700,-342 700,-342 706,-342 712,-348 712,-354 712,-354 712,-413 712,-413 712,-419 706,-425 700,-425\"/>\r\n",
       "<text text-anchor=\"start\" x=\"594.5\" y=\"-409.8\" font-family=\"Helvetica,sans-Serif\" font-size=\"14.00\">Gender ≤ 0.5</text>\r\n",
       "<text text-anchor=\"start\" x=\"586.5\" y=\"-394.8\" font-family=\"Helvetica,sans-Serif\" font-size=\"14.00\">entropy = 0.943</text>\r\n",
       "<text text-anchor=\"start\" x=\"589\" y=\"-379.8\" font-family=\"Helvetica,sans-Serif\" font-size=\"14.00\">samples = 915</text>\r\n",
       "<text text-anchor=\"start\" x=\"579.5\" y=\"-364.8\" font-family=\"Helvetica,sans-Serif\" font-size=\"14.00\">value = [585, 330]</text>\r\n",
       "<text text-anchor=\"start\" x=\"569\" y=\"-349.8\" font-family=\"Helvetica,sans-Serif\" font-size=\"14.00\">class = No Sobrevive</text>\r\n",
       "</g>\r\n",
       "<!-- 1 -->\r\n",
       "<g id=\"node2\" class=\"node\"><title>1</title>\r\n",
       "<path fill=\"#eb9d64\" stroke=\"black\" d=\"M537,-306C537,-306 410,-306 410,-306 404,-306 398,-300 398,-294 398,-294 398,-235 398,-235 398,-229 404,-223 410,-223 410,-223 537,-223 537,-223 543,-223 549,-229 549,-235 549,-235 549,-294 549,-294 549,-300 543,-306 537,-306\"/>\r\n",
       "<text text-anchor=\"start\" x=\"434\" y=\"-290.8\" font-family=\"Helvetica,sans-Serif\" font-size=\"14.00\">Age ≤ 14.25</text>\r\n",
       "<text text-anchor=\"start\" x=\"423.5\" y=\"-275.8\" font-family=\"Helvetica,sans-Serif\" font-size=\"14.00\">entropy = 0.678</text>\r\n",
       "<text text-anchor=\"start\" x=\"426\" y=\"-260.8\" font-family=\"Helvetica,sans-Serif\" font-size=\"14.00\">samples = 597</text>\r\n",
       "<text text-anchor=\"start\" x=\"416.5\" y=\"-245.8\" font-family=\"Helvetica,sans-Serif\" font-size=\"14.00\">value = [490, 107]</text>\r\n",
       "<text text-anchor=\"start\" x=\"406\" y=\"-230.8\" font-family=\"Helvetica,sans-Serif\" font-size=\"14.00\">class = No Sobrevive</text>\r\n",
       "</g>\r\n",
       "<!-- 0&#45;&gt;1 -->\r\n",
       "<g id=\"edge1\" class=\"edge\"><title>0&#45;&gt;1</title>\r\n",
       "<path fill=\"none\" stroke=\"black\" d=\"M579.948,-341.907C566.546,-332.288 552.149,-321.953 538.408,-312.09\"/>\r\n",
       "<polygon fill=\"black\" stroke=\"black\" points=\"540.117,-309.009 529.952,-306.021 536.035,-314.695 540.117,-309.009\"/>\r\n",
       "<text text-anchor=\"middle\" x=\"534.005\" y=\"-326.99\" font-family=\"Helvetica,sans-Serif\" font-size=\"14.00\">True</text>\r\n",
       "</g>\r\n",
       "<!-- 8 -->\r\n",
       "<g id=\"node9\" class=\"node\"><title>8</title>\r\n",
       "<path fill=\"#8dc7f0\" stroke=\"black\" d=\"M844,-306C844,-306 739,-306 739,-306 733,-306 727,-300 727,-294 727,-294 727,-235 727,-235 727,-229 733,-223 739,-223 739,-223 844,-223 844,-223 850,-223 856,-229 856,-235 856,-235 856,-294 856,-294 856,-300 850,-306 844,-306\"/>\r\n",
       "<text text-anchor=\"start\" x=\"752\" y=\"-290.8\" font-family=\"Helvetica,sans-Serif\" font-size=\"14.00\">Pclass ≤ 2.5</text>\r\n",
       "<text text-anchor=\"start\" x=\"745.5\" y=\"-275.8\" font-family=\"Helvetica,sans-Serif\" font-size=\"14.00\">entropy = 0.88</text>\r\n",
       "<text text-anchor=\"start\" x=\"744\" y=\"-260.8\" font-family=\"Helvetica,sans-Serif\" font-size=\"14.00\">samples = 318</text>\r\n",
       "<text text-anchor=\"start\" x=\"738.5\" y=\"-245.8\" font-family=\"Helvetica,sans-Serif\" font-size=\"14.00\">value = [95, 223]</text>\r\n",
       "<text text-anchor=\"start\" x=\"735\" y=\"-230.8\" font-family=\"Helvetica,sans-Serif\" font-size=\"14.00\">class = Sobrevive</text>\r\n",
       "</g>\r\n",
       "<!-- 0&#45;&gt;8 -->\r\n",
       "<g id=\"edge8\" class=\"edge\"><title>0&#45;&gt;8</title>\r\n",
       "<path fill=\"none\" stroke=\"black\" d=\"M690.276,-341.907C703.02,-332.288 716.711,-321.953 729.778,-312.09\"/>\r\n",
       "<polygon fill=\"black\" stroke=\"black\" points=\"731.946,-314.839 737.819,-306.021 727.728,-309.252 731.946,-314.839\"/>\r\n",
       "<text text-anchor=\"middle\" x=\"734.36\" y=\"-327.08\" font-family=\"Helvetica,sans-Serif\" font-size=\"14.00\">False</text>\r\n",
       "</g>\r\n",
       "<!-- 2 -->\r\n",
       "<g id=\"node3\" class=\"node\"><title>2</title>\r\n",
       "<path fill=\"#ecf6fd\" stroke=\"black\" d=\"M275,-187C275,-187 170,-187 170,-187 164,-187 158,-181 158,-175 158,-175 158,-116 158,-116 158,-110 164,-104 170,-104 170,-104 275,-104 275,-104 281,-104 287,-110 287,-116 287,-116 287,-175 287,-175 287,-181 281,-187 275,-187\"/>\r\n",
       "<text text-anchor=\"start\" x=\"185\" y=\"-171.8\" font-family=\"Helvetica,sans-Serif\" font-size=\"14.00\">SibSp ≤ 2.5</text>\r\n",
       "<text text-anchor=\"start\" x=\"172.5\" y=\"-156.8\" font-family=\"Helvetica,sans-Serif\" font-size=\"14.00\">entropy = 0.998</text>\r\n",
       "<text text-anchor=\"start\" x=\"179\" y=\"-141.8\" font-family=\"Helvetica,sans-Serif\" font-size=\"14.00\">samples = 40</text>\r\n",
       "<text text-anchor=\"start\" x=\"174\" y=\"-126.8\" font-family=\"Helvetica,sans-Serif\" font-size=\"14.00\">value = [19, 21]</text>\r\n",
       "<text text-anchor=\"start\" x=\"166\" y=\"-111.8\" font-family=\"Helvetica,sans-Serif\" font-size=\"14.00\">class = Sobrevive</text>\r\n",
       "</g>\r\n",
       "<!-- 1&#45;&gt;2 -->\r\n",
       "<g id=\"edge2\" class=\"edge\"><title>1&#45;&gt;2</title>\r\n",
       "<path fill=\"none\" stroke=\"black\" d=\"M397.851,-228.237C365.795,-213.295 328.558,-195.937 296.664,-181.071\"/>\r\n",
       "<polygon fill=\"black\" stroke=\"black\" points=\"297.928,-177.798 287.386,-176.746 294.971,-184.143 297.928,-177.798\"/>\r\n",
       "</g>\r\n",
       "<!-- 5 -->\r\n",
       "<g id=\"node6\" class=\"node\"><title>5</title>\r\n",
       "<path fill=\"#ea985d\" stroke=\"black\" d=\"M537,-187C537,-187 410,-187 410,-187 404,-187 398,-181 398,-175 398,-175 398,-116 398,-116 398,-110 404,-104 410,-104 410,-104 537,-104 537,-104 543,-104 549,-110 549,-116 549,-116 549,-175 549,-175 549,-181 543,-187 537,-187\"/>\r\n",
       "<text text-anchor=\"start\" x=\"434\" y=\"-171.8\" font-family=\"Helvetica,sans-Serif\" font-size=\"14.00\">Pclass ≤ 1.5</text>\r\n",
       "<text text-anchor=\"start\" x=\"423.5\" y=\"-156.8\" font-family=\"Helvetica,sans-Serif\" font-size=\"14.00\">entropy = 0.621</text>\r\n",
       "<text text-anchor=\"start\" x=\"426\" y=\"-141.8\" font-family=\"Helvetica,sans-Serif\" font-size=\"14.00\">samples = 557</text>\r\n",
       "<text text-anchor=\"start\" x=\"420.5\" y=\"-126.8\" font-family=\"Helvetica,sans-Serif\" font-size=\"14.00\">value = [471, 86]</text>\r\n",
       "<text text-anchor=\"start\" x=\"406\" y=\"-111.8\" font-family=\"Helvetica,sans-Serif\" font-size=\"14.00\">class = No Sobrevive</text>\r\n",
       "</g>\r\n",
       "<!-- 1&#45;&gt;5 -->\r\n",
       "<g id=\"edge5\" class=\"edge\"><title>1&#45;&gt;5</title>\r\n",
       "<path fill=\"none\" stroke=\"black\" d=\"M473.5,-222.907C473.5,-214.649 473.5,-205.864 473.5,-197.302\"/>\r\n",
       "<polygon fill=\"black\" stroke=\"black\" points=\"477,-197.021 473.5,-187.021 470,-197.021 477,-197.021\"/>\r\n",
       "</g>\r\n",
       "<!-- 3 -->\r\n",
       "<g id=\"node4\" class=\"node\"><title>3</title>\r\n",
       "<path fill=\"#5fb0ea\" stroke=\"black\" d=\"M117,-68C117,-68 12,-68 12,-68 6,-68 0,-62 0,-56 0,-56 0,-12 0,-12 0,-6 6,-0 12,-0 12,-0 117,-0 117,-0 123,-0 129,-6 129,-12 129,-12 129,-56 129,-56 129,-62 123,-68 117,-68\"/>\r\n",
       "<text text-anchor=\"start\" x=\"14.5\" y=\"-52.8\" font-family=\"Helvetica,sans-Serif\" font-size=\"14.00\">entropy = 0.634</text>\r\n",
       "<text text-anchor=\"start\" x=\"21\" y=\"-37.8\" font-family=\"Helvetica,sans-Serif\" font-size=\"14.00\">samples = 25</text>\r\n",
       "<text text-anchor=\"start\" x=\"20\" y=\"-22.8\" font-family=\"Helvetica,sans-Serif\" font-size=\"14.00\">value = [4, 21]</text>\r\n",
       "<text text-anchor=\"start\" x=\"8\" y=\"-7.8\" font-family=\"Helvetica,sans-Serif\" font-size=\"14.00\">class = Sobrevive</text>\r\n",
       "</g>\r\n",
       "<!-- 2&#45;&gt;3 -->\r\n",
       "<g id=\"edge3\" class=\"edge\"><title>2&#45;&gt;3</title>\r\n",
       "<path fill=\"none\" stroke=\"black\" d=\"M163.667,-103.726C149.644,-94.0078 134.712,-83.6597 120.806,-74.0222\"/>\r\n",
       "<polygon fill=\"black\" stroke=\"black\" points=\"122.51,-70.9447 112.297,-68.1252 118.523,-76.6981 122.51,-70.9447\"/>\r\n",
       "</g>\r\n",
       "<!-- 4 -->\r\n",
       "<g id=\"node5\" class=\"node\"><title>4</title>\r\n",
       "<path fill=\"#e58139\" stroke=\"black\" d=\"M286,-68C286,-68 159,-68 159,-68 153,-68 147,-62 147,-56 147,-56 147,-12 147,-12 147,-6 153,-0 159,-0 159,-0 286,-0 286,-0 292,-0 298,-6 298,-12 298,-12 298,-56 298,-56 298,-62 292,-68 286,-68\"/>\r\n",
       "<text text-anchor=\"start\" x=\"180.5\" y=\"-52.8\" font-family=\"Helvetica,sans-Serif\" font-size=\"14.00\">entropy = 0.0</text>\r\n",
       "<text text-anchor=\"start\" x=\"179\" y=\"-37.8\" font-family=\"Helvetica,sans-Serif\" font-size=\"14.00\">samples = 15</text>\r\n",
       "<text text-anchor=\"start\" x=\"178\" y=\"-22.8\" font-family=\"Helvetica,sans-Serif\" font-size=\"14.00\">value = [15, 0]</text>\r\n",
       "<text text-anchor=\"start\" x=\"155\" y=\"-7.8\" font-family=\"Helvetica,sans-Serif\" font-size=\"14.00\">class = No Sobrevive</text>\r\n",
       "</g>\r\n",
       "<!-- 2&#45;&gt;4 -->\r\n",
       "<g id=\"edge4\" class=\"edge\"><title>2&#45;&gt;4</title>\r\n",
       "<path fill=\"none\" stroke=\"black\" d=\"M222.5,-103.726C222.5,-95.5175 222.5,-86.8595 222.5,-78.56\"/>\r\n",
       "<polygon fill=\"black\" stroke=\"black\" points=\"226,-78.2996 222.5,-68.2996 219,-78.2996 226,-78.2996\"/>\r\n",
       "</g>\r\n",
       "<!-- 6 -->\r\n",
       "<g id=\"node7\" class=\"node\"><title>6</title>\r\n",
       "<path fill=\"#f1bd97\" stroke=\"black\" d=\"M455,-68C455,-68 328,-68 328,-68 322,-68 316,-62 316,-56 316,-56 316,-12 316,-12 316,-6 322,-0 328,-0 328,-0 455,-0 455,-0 461,-0 467,-6 467,-12 467,-12 467,-56 467,-56 467,-62 461,-68 455,-68\"/>\r\n",
       "<text text-anchor=\"start\" x=\"341.5\" y=\"-52.8\" font-family=\"Helvetica,sans-Serif\" font-size=\"14.00\">entropy = 0.907</text>\r\n",
       "<text text-anchor=\"start\" x=\"344\" y=\"-37.8\" font-family=\"Helvetica,sans-Serif\" font-size=\"14.00\">samples = 124</text>\r\n",
       "<text text-anchor=\"start\" x=\"343\" y=\"-22.8\" font-family=\"Helvetica,sans-Serif\" font-size=\"14.00\">value = [84, 40]</text>\r\n",
       "<text text-anchor=\"start\" x=\"324\" y=\"-7.8\" font-family=\"Helvetica,sans-Serif\" font-size=\"14.00\">class = No Sobrevive</text>\r\n",
       "</g>\r\n",
       "<!-- 5&#45;&gt;6 -->\r\n",
       "<g id=\"edge6\" class=\"edge\"><title>5&#45;&gt;6</title>\r\n",
       "<path fill=\"none\" stroke=\"black\" d=\"M442.966,-103.726C436.273,-94.7878 429.18,-85.3168 422.47,-76.3558\"/>\r\n",
       "<polygon fill=\"black\" stroke=\"black\" points=\"425.232,-74.206 416.437,-68.2996 419.629,-78.402 425.232,-74.206\"/>\r\n",
       "</g>\r\n",
       "<!-- 7 -->\r\n",
       "<g id=\"node8\" class=\"node\"><title>7</title>\r\n",
       "<path fill=\"#e89051\" stroke=\"black\" d=\"M624,-68C624,-68 497,-68 497,-68 491,-68 485,-62 485,-56 485,-56 485,-12 485,-12 485,-6 491,-0 497,-0 497,-0 624,-0 624,-0 630,-0 636,-6 636,-12 636,-12 636,-56 636,-56 636,-62 630,-68 624,-68\"/>\r\n",
       "<text text-anchor=\"start\" x=\"510.5\" y=\"-52.8\" font-family=\"Helvetica,sans-Serif\" font-size=\"14.00\">entropy = 0.488</text>\r\n",
       "<text text-anchor=\"start\" x=\"513\" y=\"-37.8\" font-family=\"Helvetica,sans-Serif\" font-size=\"14.00\">samples = 433</text>\r\n",
       "<text text-anchor=\"start\" x=\"507.5\" y=\"-22.8\" font-family=\"Helvetica,sans-Serif\" font-size=\"14.00\">value = [387, 46]</text>\r\n",
       "<text text-anchor=\"start\" x=\"493\" y=\"-7.8\" font-family=\"Helvetica,sans-Serif\" font-size=\"14.00\">class = No Sobrevive</text>\r\n",
       "</g>\r\n",
       "<!-- 5&#45;&gt;7 -->\r\n",
       "<g id=\"edge7\" class=\"edge\"><title>5&#45;&gt;7</title>\r\n",
       "<path fill=\"none\" stroke=\"black\" d=\"M505.896,-103.726C512.997,-94.7878 520.522,-85.3168 527.642,-76.3558\"/>\r\n",
       "<polygon fill=\"black\" stroke=\"black\" points=\"530.562,-78.3065 534.043,-68.2996 525.082,-73.9519 530.562,-78.3065\"/>\r\n",
       "</g>\r\n",
       "<!-- 9 -->\r\n",
       "<g id=\"node10\" class=\"node\"><title>9</title>\r\n",
       "<path fill=\"#4aa6e7\" stroke=\"black\" d=\"M844,-187C844,-187 739,-187 739,-187 733,-187 727,-181 727,-175 727,-175 727,-116 727,-116 727,-110 733,-104 739,-104 739,-104 844,-104 844,-104 850,-104 856,-110 856,-116 856,-116 856,-175 856,-175 856,-181 850,-187 844,-187\"/>\r\n",
       "<text text-anchor=\"start\" x=\"746.5\" y=\"-171.8\" font-family=\"Helvetica,sans-Serif\" font-size=\"14.00\">Fare ≤ 26.125</text>\r\n",
       "<text text-anchor=\"start\" x=\"741.5\" y=\"-156.8\" font-family=\"Helvetica,sans-Serif\" font-size=\"14.00\">entropy = 0.405</text>\r\n",
       "<text text-anchor=\"start\" x=\"744\" y=\"-141.8\" font-family=\"Helvetica,sans-Serif\" font-size=\"14.00\">samples = 173</text>\r\n",
       "<text text-anchor=\"start\" x=\"738.5\" y=\"-126.8\" font-family=\"Helvetica,sans-Serif\" font-size=\"14.00\">value = [14, 159]</text>\r\n",
       "<text text-anchor=\"start\" x=\"735\" y=\"-111.8\" font-family=\"Helvetica,sans-Serif\" font-size=\"14.00\">class = Sobrevive</text>\r\n",
       "</g>\r\n",
       "<!-- 8&#45;&gt;9 -->\r\n",
       "<g id=\"edge9\" class=\"edge\"><title>8&#45;&gt;9</title>\r\n",
       "<path fill=\"none\" stroke=\"black\" d=\"M791.5,-222.907C791.5,-214.649 791.5,-205.864 791.5,-197.302\"/>\r\n",
       "<polygon fill=\"black\" stroke=\"black\" points=\"795,-197.021 791.5,-187.021 788,-197.021 795,-197.021\"/>\r\n",
       "</g>\r\n",
       "<!-- 12 -->\r\n",
       "<g id=\"node13\" class=\"node\"><title>12</title>\r\n",
       "<path fill=\"#fae5d5\" stroke=\"black\" d=\"M1087,-187C1087,-187 960,-187 960,-187 954,-187 948,-181 948,-175 948,-175 948,-116 948,-116 948,-110 954,-104 960,-104 960,-104 1087,-104 1087,-104 1093,-104 1099,-110 1099,-116 1099,-116 1099,-175 1099,-175 1099,-181 1093,-187 1087,-187\"/>\r\n",
       "<text text-anchor=\"start\" x=\"978.5\" y=\"-171.8\" font-family=\"Helvetica,sans-Serif\" font-size=\"14.00\">Fare ≤ 24.808</text>\r\n",
       "<text text-anchor=\"start\" x=\"977.5\" y=\"-156.8\" font-family=\"Helvetica,sans-Serif\" font-size=\"14.00\">entropy = 0.99</text>\r\n",
       "<text text-anchor=\"start\" x=\"976\" y=\"-141.8\" font-family=\"Helvetica,sans-Serif\" font-size=\"14.00\">samples = 145</text>\r\n",
       "<text text-anchor=\"start\" x=\"975\" y=\"-126.8\" font-family=\"Helvetica,sans-Serif\" font-size=\"14.00\">value = [81, 64]</text>\r\n",
       "<text text-anchor=\"start\" x=\"956\" y=\"-111.8\" font-family=\"Helvetica,sans-Serif\" font-size=\"14.00\">class = No Sobrevive</text>\r\n",
       "</g>\r\n",
       "<!-- 8&#45;&gt;12 -->\r\n",
       "<g id=\"edge12\" class=\"edge\"><title>8&#45;&gt;12</title>\r\n",
       "<path fill=\"none\" stroke=\"black\" d=\"M856.125,-230.909C881.662,-218.03 911.362,-203.052 938.594,-189.319\"/>\r\n",
       "<polygon fill=\"black\" stroke=\"black\" points=\"940.372,-192.342 947.725,-184.714 937.22,-186.092 940.372,-192.342\"/>\r\n",
       "</g>\r\n",
       "<!-- 10 -->\r\n",
       "<g id=\"node11\" class=\"node\"><title>10</title>\r\n",
       "<path fill=\"#64b2eb\" stroke=\"black\" d=\"M771,-68C771,-68 666,-68 666,-68 660,-68 654,-62 654,-56 654,-56 654,-12 654,-12 654,-6 660,-0 666,-0 666,-0 771,-0 771,-0 777,-0 783,-6 783,-12 783,-12 783,-56 783,-56 783,-62 777,-68 771,-68\"/>\r\n",
       "<text text-anchor=\"start\" x=\"668.5\" y=\"-52.8\" font-family=\"Helvetica,sans-Serif\" font-size=\"14.00\">entropy = 0.677</text>\r\n",
       "<text text-anchor=\"start\" x=\"675\" y=\"-37.8\" font-family=\"Helvetica,sans-Serif\" font-size=\"14.00\">samples = 56</text>\r\n",
       "<text text-anchor=\"start\" x=\"670\" y=\"-22.8\" font-family=\"Helvetica,sans-Serif\" font-size=\"14.00\">value = [10, 46]</text>\r\n",
       "<text text-anchor=\"start\" x=\"662\" y=\"-7.8\" font-family=\"Helvetica,sans-Serif\" font-size=\"14.00\">class = Sobrevive</text>\r\n",
       "</g>\r\n",
       "<!-- 9&#45;&gt;10 -->\r\n",
       "<g id=\"edge10\" class=\"edge\"><title>9&#45;&gt;10</title>\r\n",
       "<path fill=\"none\" stroke=\"black\" d=\"M764.317,-103.726C758.419,-94.879 752.173,-85.51 746.254,-76.6303\"/>\r\n",
       "<polygon fill=\"black\" stroke=\"black\" points=\"749.159,-74.6787 740.7,-68.2996 743.335,-78.5616 749.159,-74.6787\"/>\r\n",
       "</g>\r\n",
       "<!-- 11 -->\r\n",
       "<g id=\"node12\" class=\"node\"><title>11</title>\r\n",
       "<path fill=\"#40a0e6\" stroke=\"black\" d=\"M918,-68C918,-68 813,-68 813,-68 807,-68 801,-62 801,-56 801,-56 801,-12 801,-12 801,-6 807,-0 813,-0 813,-0 918,-0 918,-0 924,-0 930,-6 930,-12 930,-12 930,-56 930,-56 930,-62 924,-68 918,-68\"/>\r\n",
       "<text text-anchor=\"start\" x=\"815.5\" y=\"-52.8\" font-family=\"Helvetica,sans-Serif\" font-size=\"14.00\">entropy = 0.215</text>\r\n",
       "<text text-anchor=\"start\" x=\"818\" y=\"-37.8\" font-family=\"Helvetica,sans-Serif\" font-size=\"14.00\">samples = 117</text>\r\n",
       "<text text-anchor=\"start\" x=\"817\" y=\"-22.8\" font-family=\"Helvetica,sans-Serif\" font-size=\"14.00\">value = [4, 113]</text>\r\n",
       "<text text-anchor=\"start\" x=\"809\" y=\"-7.8\" font-family=\"Helvetica,sans-Serif\" font-size=\"14.00\">class = Sobrevive</text>\r\n",
       "</g>\r\n",
       "<!-- 9&#45;&gt;11 -->\r\n",
       "<g id=\"edge11\" class=\"edge\"><title>9&#45;&gt;11</title>\r\n",
       "<path fill=\"none\" stroke=\"black\" d=\"M819.055,-103.726C825.034,-94.879 831.365,-85.51 837.366,-76.6303\"/>\r\n",
       "<polygon fill=\"black\" stroke=\"black\" points=\"840.297,-78.5448 842.996,-68.2996 834.497,-74.6253 840.297,-78.5448\"/>\r\n",
       "</g>\r\n",
       "<!-- 13 -->\r\n",
       "<g id=\"node14\" class=\"node\"><title>13</title>\r\n",
       "<path fill=\"#ffffff\" stroke=\"black\" d=\"M1087,-68C1087,-68 960,-68 960,-68 954,-68 948,-62 948,-56 948,-56 948,-12 948,-12 948,-6 954,-0 960,-0 960,-0 1087,-0 1087,-0 1093,-0 1099,-6 1099,-12 1099,-12 1099,-56 1099,-56 1099,-62 1093,-68 1087,-68\"/>\r\n",
       "<text text-anchor=\"start\" x=\"981.5\" y=\"-52.8\" font-family=\"Helvetica,sans-Serif\" font-size=\"14.00\">entropy = 1.0</text>\r\n",
       "<text text-anchor=\"start\" x=\"976\" y=\"-37.8\" font-family=\"Helvetica,sans-Serif\" font-size=\"14.00\">samples = 126</text>\r\n",
       "<text text-anchor=\"start\" x=\"975\" y=\"-22.8\" font-family=\"Helvetica,sans-Serif\" font-size=\"14.00\">value = [63, 63]</text>\r\n",
       "<text text-anchor=\"start\" x=\"956\" y=\"-7.8\" font-family=\"Helvetica,sans-Serif\" font-size=\"14.00\">class = No Sobrevive</text>\r\n",
       "</g>\r\n",
       "<!-- 12&#45;&gt;13 -->\r\n",
       "<g id=\"edge13\" class=\"edge\"><title>12&#45;&gt;13</title>\r\n",
       "<path fill=\"none\" stroke=\"black\" d=\"M1023.5,-103.726C1023.5,-95.5175 1023.5,-86.8595 1023.5,-78.56\"/>\r\n",
       "<polygon fill=\"black\" stroke=\"black\" points=\"1027,-78.2996 1023.5,-68.2996 1020,-78.2996 1027,-78.2996\"/>\r\n",
       "</g>\r\n",
       "<!-- 14 -->\r\n",
       "<g id=\"node15\" class=\"node\"><title>14</title>\r\n",
       "<path fill=\"#e68844\" stroke=\"black\" d=\"M1256,-68C1256,-68 1129,-68 1129,-68 1123,-68 1117,-62 1117,-56 1117,-56 1117,-12 1117,-12 1117,-6 1123,-0 1129,-0 1129,-0 1256,-0 1256,-0 1262,-0 1268,-6 1268,-12 1268,-12 1268,-56 1268,-56 1268,-62 1262,-68 1256,-68\"/>\r\n",
       "<text text-anchor=\"start\" x=\"1142.5\" y=\"-52.8\" font-family=\"Helvetica,sans-Serif\" font-size=\"14.00\">entropy = 0.297</text>\r\n",
       "<text text-anchor=\"start\" x=\"1149\" y=\"-37.8\" font-family=\"Helvetica,sans-Serif\" font-size=\"14.00\">samples = 19</text>\r\n",
       "<text text-anchor=\"start\" x=\"1148\" y=\"-22.8\" font-family=\"Helvetica,sans-Serif\" font-size=\"14.00\">value = [18, 1]</text>\r\n",
       "<text text-anchor=\"start\" x=\"1125\" y=\"-7.8\" font-family=\"Helvetica,sans-Serif\" font-size=\"14.00\">class = No Sobrevive</text>\r\n",
       "</g>\r\n",
       "<!-- 12&#45;&gt;14 -->\r\n",
       "<g id=\"edge14\" class=\"edge\"><title>12&#45;&gt;14</title>\r\n",
       "<path fill=\"none\" stroke=\"black\" d=\"M1086.43,-103.726C1101.57,-93.9161 1117.7,-83.4644 1132.69,-73.7496\"/>\r\n",
       "<polygon fill=\"black\" stroke=\"black\" points=\"1134.89,-76.5002 1141.38,-68.1252 1131.08,-70.6256 1134.89,-76.5002\"/>\r\n",
       "</g>\r\n",
       "</g>\r\n",
       "</svg>\r\n"
      ],
      "text/plain": [
       "<graphviz.files.Source at 0x2a630bad448>"
      ]
     },
     "execution_count": 45,
     "metadata": {},
     "output_type": "execute_result"
    }
   ],
   "source": [
    "dot_data = tree.export_graphviz(clf_train, out_file=None,\n",
    "                               class_names = clasificacion,\n",
    "                               feature_names = columns,\n",
    "                               filled=True, rounded=True,\n",
    "                               special_characters=True)\n",
    "graph = graphviz.Source(dot_data)\n",
    "graph.render(\"TITATNICCOLOR\", format='png')\n",
    "graph"
   ]
  },
  {
   "cell_type": "markdown",
   "metadata": {},
   "source": [
    "* ¿Qué describe al grupo que tenía mayor cantidad de víctimas fatales? \n",
    " El grupo con mayor nuemro de muertes es descrito por su sexo y su edad\n",
    "\n",
    "\n",
    "* ¿Qué grupo tenía la mayor cantidad de sobrevivientes?\n",
    "El grupo con mayor numero de sobrevivientes es donde se encontraban las mujeres  "
   ]
  },
  {
   "cell_type": "markdown",
   "metadata": {},
   "source": [
    "# Parte 2: Aplicar el modelo del árbol de decisiones"
   ]
  },
  {
   "cell_type": "code",
   "execution_count": 17,
   "metadata": {},
   "outputs": [
    {
     "name": "stdout",
     "output_type": "stream",
     "text": [
      "<class 'pandas.core.frame.DataFrame'>\n",
      "RangeIndex: 393 entries, 0 to 392\n",
      "Data columns (total 12 columns):\n",
      " #   Column       Non-Null Count  Dtype  \n",
      "---  ------       --------------  -----  \n",
      " 0   PassengerId  393 non-null    int64  \n",
      " 1   Survived     393 non-null    int64  \n",
      " 2   Pclass       393 non-null    int64  \n",
      " 3   Name         393 non-null    object \n",
      " 4   Gender       393 non-null    object \n",
      " 5   Age          307 non-null    float64\n",
      " 6   SibSp        393 non-null    int64  \n",
      " 7   Parch        393 non-null    int64  \n",
      " 8   Ticket       393 non-null    object \n",
      " 9   Fare         393 non-null    float64\n",
      " 10  Cabin        93 non-null     object \n",
      " 11  Embarked     392 non-null    object \n",
      "dtypes: float64(2), int64(5), object(5)\n",
      "memory usage: 37.0+ KB\n"
     ]
    }
   ],
   "source": [
    "testing = pd.read_csv(\"titanic-test.csv\")\n",
    "testing.info()"
   ]
  },
  {
   "cell_type": "markdown",
   "metadata": {},
   "source": [
    "* ¿Cuántos registros hay en el conjunto de datos? \n",
    "393\n",
    "* ¿Qué variable(s) importante(s) son valores faltantes y cuántas faltan? \n",
    "Cabin Y Age,301 y 86"
   ]
  },
  {
   "cell_type": "code",
   "execution_count": 18,
   "metadata": {},
   "outputs": [],
   "source": [
    "testing[\"Gender\"] = testing[\"Gender\"].apply(lambda toLabel: 0 if toLabel == 'male' else 1)"
   ]
  },
  {
   "cell_type": "code",
   "execution_count": 19,
   "metadata": {},
   "outputs": [],
   "source": [
    "testing[\"Age\"].fillna(testing[\"Age\"].mean(), inplace=True)"
   ]
  },
  {
   "cell_type": "code",
   "execution_count": 20,
   "metadata": {},
   "outputs": [
    {
     "data": {
      "text/html": [
       "<div>\n",
       "<style scoped>\n",
       "    .dataframe tbody tr th:only-of-type {\n",
       "        vertical-align: middle;\n",
       "    }\n",
       "\n",
       "    .dataframe tbody tr th {\n",
       "        vertical-align: top;\n",
       "    }\n",
       "\n",
       "    .dataframe thead th {\n",
       "        text-align: right;\n",
       "    }\n",
       "</style>\n",
       "<table border=\"1\" class=\"dataframe\">\n",
       "  <thead>\n",
       "    <tr style=\"text-align: right;\">\n",
       "      <th></th>\n",
       "      <th>PassengerId</th>\n",
       "      <th>Survived</th>\n",
       "      <th>Pclass</th>\n",
       "      <th>Name</th>\n",
       "      <th>Gender</th>\n",
       "      <th>Age</th>\n",
       "      <th>SibSp</th>\n",
       "      <th>Parch</th>\n",
       "      <th>Ticket</th>\n",
       "      <th>Fare</th>\n",
       "      <th>Cabin</th>\n",
       "      <th>Embarked</th>\n",
       "    </tr>\n",
       "  </thead>\n",
       "  <tbody>\n",
       "    <tr>\n",
       "      <th>0</th>\n",
       "      <td>916</td>\n",
       "      <td>0</td>\n",
       "      <td>2</td>\n",
       "      <td>Coleridge, Mr. Reginald Charles</td>\n",
       "      <td>0</td>\n",
       "      <td>29.0</td>\n",
       "      <td>0</td>\n",
       "      <td>0</td>\n",
       "      <td>W./C. 14263</td>\n",
       "      <td>10.50</td>\n",
       "      <td>NaN</td>\n",
       "      <td>S</td>\n",
       "    </tr>\n",
       "    <tr>\n",
       "      <th>1</th>\n",
       "      <td>917</td>\n",
       "      <td>1</td>\n",
       "      <td>1</td>\n",
       "      <td>Spedden, Mrs. Frederic Oakley (Margaretta Corn...</td>\n",
       "      <td>1</td>\n",
       "      <td>40.0</td>\n",
       "      <td>1</td>\n",
       "      <td>1</td>\n",
       "      <td>16966</td>\n",
       "      <td>134.50</td>\n",
       "      <td>E34</td>\n",
       "      <td>C</td>\n",
       "    </tr>\n",
       "    <tr>\n",
       "      <th>2</th>\n",
       "      <td>918</td>\n",
       "      <td>0</td>\n",
       "      <td>3</td>\n",
       "      <td>Windelov, Mr. Einar</td>\n",
       "      <td>0</td>\n",
       "      <td>21.0</td>\n",
       "      <td>0</td>\n",
       "      <td>0</td>\n",
       "      <td>SOTON/OQ 3101317</td>\n",
       "      <td>7.25</td>\n",
       "      <td>NaN</td>\n",
       "      <td>S</td>\n",
       "    </tr>\n",
       "    <tr>\n",
       "      <th>3</th>\n",
       "      <td>919</td>\n",
       "      <td>1</td>\n",
       "      <td>1</td>\n",
       "      <td>Minahan, Miss. Daisy E</td>\n",
       "      <td>1</td>\n",
       "      <td>33.0</td>\n",
       "      <td>1</td>\n",
       "      <td>0</td>\n",
       "      <td>19928</td>\n",
       "      <td>90.00</td>\n",
       "      <td>C78</td>\n",
       "      <td>Q</td>\n",
       "    </tr>\n",
       "    <tr>\n",
       "      <th>4</th>\n",
       "      <td>920</td>\n",
       "      <td>1</td>\n",
       "      <td>3</td>\n",
       "      <td>Wilkes, Mrs. James (Ellen Needs)</td>\n",
       "      <td>1</td>\n",
       "      <td>47.0</td>\n",
       "      <td>1</td>\n",
       "      <td>0</td>\n",
       "      <td>363272</td>\n",
       "      <td>7.00</td>\n",
       "      <td>NaN</td>\n",
       "      <td>S</td>\n",
       "    </tr>\n",
       "  </tbody>\n",
       "</table>\n",
       "</div>"
      ],
      "text/plain": [
       "   PassengerId  Survived  Pclass  \\\n",
       "0          916         0       2   \n",
       "1          917         1       1   \n",
       "2          918         0       3   \n",
       "3          919         1       1   \n",
       "4          920         1       3   \n",
       "\n",
       "                                                Name  Gender   Age  SibSp  \\\n",
       "0                    Coleridge, Mr. Reginald Charles       0  29.0      0   \n",
       "1  Spedden, Mrs. Frederic Oakley (Margaretta Corn...       1  40.0      1   \n",
       "2                                Windelov, Mr. Einar       0  21.0      0   \n",
       "3                             Minahan, Miss. Daisy E       1  33.0      1   \n",
       "4                   Wilkes, Mrs. James (Ellen Needs)       1  47.0      1   \n",
       "\n",
       "   Parch            Ticket    Fare Cabin Embarked  \n",
       "0      0       W./C. 14263   10.50   NaN        S  \n",
       "1      1             16966  134.50   E34        C  \n",
       "2      0  SOTON/OQ 3101317    7.25   NaN        S  \n",
       "3      0             19928   90.00   C78        Q  \n",
       "4      0            363272    7.00   NaN        S  "
      ]
     },
     "execution_count": 20,
     "metadata": {},
     "output_type": "execute_result"
    }
   ],
   "source": [
    "testing.head()"
   ]
  },
  {
   "cell_type": "code",
   "execution_count": 49,
   "metadata": {},
   "outputs": [],
   "source": [
    "X_input = testing[list(columns)].values"
   ]
  },
  {
   "cell_type": "code",
   "execution_count": 51,
   "metadata": {},
   "outputs": [
    {
     "data": {
      "text/html": [
       "<div>\n",
       "<style scoped>\n",
       "    .dataframe tbody tr th:only-of-type {\n",
       "        vertical-align: middle;\n",
       "    }\n",
       "\n",
       "    .dataframe tbody tr th {\n",
       "        vertical-align: top;\n",
       "    }\n",
       "\n",
       "    .dataframe thead th {\n",
       "        text-align: right;\n",
       "    }\n",
       "</style>\n",
       "<table border=\"1\" class=\"dataframe\">\n",
       "  <thead>\n",
       "    <tr style=\"text-align: right;\">\n",
       "      <th></th>\n",
       "      <th>Est_Survival</th>\n",
       "      <th>Name</th>\n",
       "    </tr>\n",
       "  </thead>\n",
       "  <tbody>\n",
       "    <tr>\n",
       "      <th>0</th>\n",
       "      <td>0</td>\n",
       "      <td>Coleridge, Mr. Reginald Charles</td>\n",
       "    </tr>\n",
       "    <tr>\n",
       "      <th>1</th>\n",
       "      <td>1</td>\n",
       "      <td>Spedden, Mrs. Frederic Oakley (Margaretta Corn...</td>\n",
       "    </tr>\n",
       "    <tr>\n",
       "      <th>2</th>\n",
       "      <td>0</td>\n",
       "      <td>Windelov, Mr. Einar</td>\n",
       "    </tr>\n",
       "    <tr>\n",
       "      <th>3</th>\n",
       "      <td>1</td>\n",
       "      <td>Minahan, Miss. Daisy E</td>\n",
       "    </tr>\n",
       "    <tr>\n",
       "      <th>4</th>\n",
       "      <td>0</td>\n",
       "      <td>Wilkes, Mrs. James (Ellen Needs)</td>\n",
       "    </tr>\n",
       "  </tbody>\n",
       "</table>\n",
       "</div>"
      ],
      "text/plain": [
       "   Est_Survival                                               Name\n",
       "0             0                    Coleridge, Mr. Reginald Charles\n",
       "1             1  Spedden, Mrs. Frederic Oakley (Margaretta Corn...\n",
       "2             0                                Windelov, Mr. Einar\n",
       "3             1                             Minahan, Miss. Daisy E\n",
       "4             0                   Wilkes, Mrs. James (Ellen Needs)"
      ]
     },
     "execution_count": 51,
     "metadata": {},
     "output_type": "execute_result"
    }
   ],
   "source": [
    "target_labels = clf_train.predict(X_input)\n",
    "\n",
    "\n",
    "target_labels = pd.DataFrame({'Est_Survival':target_labels, 'Name':testing['Name']})\n",
    "\n",
    "\n",
    "target_labels.head()"
   ]
  },
  {
   "cell_type": "code",
   "execution_count": 52,
   "metadata": {},
   "outputs": [
    {
     "name": "stdout",
     "output_type": "stream",
     "text": [
      "0.7588832487309645\n"
     ]
    }
   ],
   "source": [
    "import numpy as np\n",
    "# Load data for all passengers in the variable all_data\n",
    "all_data = pd.read_csv(\"titanic_all.csv\")\n",
    "# Merging using the field Name as key, selects only the rows of the two datasets that refer to the same passenger\n",
    "testing_results = pd.merge(target_labels, all_data[['Name','Survived']], on=['Name'])\n",
    "\n",
    "# Compute the accuracy as a ratio of matching observations to total osbervations. Store this in in the variable acc.\n",
    "acc = np.sum(testing_results['Est_Survival'] == testing_results['Survived']) / float(len(testing_results))\n",
    "print(acc)"
   ]
  },
  {
   "cell_type": "markdown",
   "metadata": {},
   "source": [
    "### Parte 3: Evaluar el modelo del árbol de decisiones"
   ]
  },
  {
   "cell_type": "code",
   "execution_count": 56,
   "metadata": {},
   "outputs": [
    {
     "name": "stdout",
     "output_type": "stream",
     "text": [
      "<class 'pandas.core.frame.DataFrame'>\n",
      "RangeIndex: 1308 entries, 0 to 1307\n",
      "Data columns (total 6 columns):\n",
      " #   Column    Non-Null Count  Dtype  \n",
      "---  ------    --------------  -----  \n",
      " 0   Survived  1308 non-null   int64  \n",
      " 1   Pclass    1308 non-null   int64  \n",
      " 2   Gender    1308 non-null   object \n",
      " 3   Age       1045 non-null   float64\n",
      " 4   SibSp     1308 non-null   int64  \n",
      " 5   Fare      1308 non-null   float64\n",
      "dtypes: float64(2), int64(3), object(1)\n",
      "memory usage: 61.4+ KB\n"
     ]
    }
   ],
   "source": [
    "all_data = pd.read_csv(\"titanic_all.csv\", usecols=['Survived','Pclass','Gender','Age','SibSp','Fare'])\n",
    "all_data.info()"
   ]
  },
  {
   "cell_type": "markdown",
   "metadata": {},
   "source": [
    "* ¿Cuántos registros hay en el conjunto de datos? \n",
    "1308\n",
    "* ¿Qué variable(s) importante(s) son valores faltantes y cuántas faltan?\n",
    "Age y 263"
   ]
  },
  {
   "cell_type": "code",
   "execution_count": 60,
   "metadata": {},
   "outputs": [],
   "source": [
    "all_data[\"Gender\"] = all_data[\"Gender\"].apply(lambda toLabel: 0 if toLabel == 'male' else 1)"
   ]
  },
  {
   "cell_type": "code",
   "execution_count": 61,
   "metadata": {
    "scrolled": true
   },
   "outputs": [],
   "source": [
    "all_data[\"Age\"].fillna(testing[\"Age\"].mean(), inplace=True)"
   ]
  },
  {
   "cell_type": "code",
   "execution_count": 62,
   "metadata": {},
   "outputs": [
    {
     "data": {
      "text/html": [
       "<div>\n",
       "<style scoped>\n",
       "    .dataframe tbody tr th:only-of-type {\n",
       "        vertical-align: middle;\n",
       "    }\n",
       "\n",
       "    .dataframe tbody tr th {\n",
       "        vertical-align: top;\n",
       "    }\n",
       "\n",
       "    .dataframe thead th {\n",
       "        text-align: right;\n",
       "    }\n",
       "</style>\n",
       "<table border=\"1\" class=\"dataframe\">\n",
       "  <thead>\n",
       "    <tr style=\"text-align: right;\">\n",
       "      <th></th>\n",
       "      <th>Survived</th>\n",
       "      <th>Pclass</th>\n",
       "      <th>Gender</th>\n",
       "      <th>Age</th>\n",
       "      <th>SibSp</th>\n",
       "      <th>Fare</th>\n",
       "    </tr>\n",
       "  </thead>\n",
       "  <tbody>\n",
       "    <tr>\n",
       "      <th>0</th>\n",
       "      <td>1</td>\n",
       "      <td>1</td>\n",
       "      <td>1</td>\n",
       "      <td>29.0000</td>\n",
       "      <td>0</td>\n",
       "      <td>211.3375</td>\n",
       "    </tr>\n",
       "    <tr>\n",
       "      <th>1</th>\n",
       "      <td>1</td>\n",
       "      <td>1</td>\n",
       "      <td>1</td>\n",
       "      <td>0.9167</td>\n",
       "      <td>1</td>\n",
       "      <td>151.5500</td>\n",
       "    </tr>\n",
       "    <tr>\n",
       "      <th>2</th>\n",
       "      <td>0</td>\n",
       "      <td>1</td>\n",
       "      <td>1</td>\n",
       "      <td>2.0000</td>\n",
       "      <td>1</td>\n",
       "      <td>151.5500</td>\n",
       "    </tr>\n",
       "    <tr>\n",
       "      <th>3</th>\n",
       "      <td>0</td>\n",
       "      <td>1</td>\n",
       "      <td>1</td>\n",
       "      <td>30.0000</td>\n",
       "      <td>1</td>\n",
       "      <td>151.5500</td>\n",
       "    </tr>\n",
       "    <tr>\n",
       "      <th>4</th>\n",
       "      <td>0</td>\n",
       "      <td>1</td>\n",
       "      <td>1</td>\n",
       "      <td>25.0000</td>\n",
       "      <td>1</td>\n",
       "      <td>151.5500</td>\n",
       "    </tr>\n",
       "  </tbody>\n",
       "</table>\n",
       "</div>"
      ],
      "text/plain": [
       "   Survived  Pclass  Gender      Age  SibSp      Fare\n",
       "0         1       1       1  29.0000      0  211.3375\n",
       "1         1       1       1   0.9167      1  151.5500\n",
       "2         0       1       1   2.0000      1  151.5500\n",
       "3         0       1       1  30.0000      1  151.5500\n",
       "4         0       1       1  25.0000      1  151.5500"
      ]
     },
     "execution_count": 62,
     "metadata": {},
     "output_type": "execute_result"
    }
   ],
   "source": [
    "all_data.head()\n"
   ]
  },
  {
   "cell_type": "code",
   "execution_count": null,
   "metadata": {},
   "outputs": [],
   "source": [
    "clf_train = tree.DecisionTreeClassifier(criterion=\"entropy\", max_depth=3)\n",
    "\n",
    "#fit the training model using the input and target variables\n",
    "clf_train = clf_train.fit(X_train, y_train)"
   ]
  },
  {
   "cell_type": "code",
   "execution_count": null,
   "metadata": {},
   "outputs": [],
   "source": [
    "train_score = str(clf_train.score(X_train,y_train))\n",
    "test_score = str(clf_train.score(X_test,y_test))\n",
    "\n",
    "#output the values in a test string\n",
    "print('Training score = '+ train_score+' Testing score = '+test_score)"
   ]
  },
  {
   "cell_type": "code",
   "execution_count": 63,
   "metadata": {},
   "outputs": [],
   "source": [
    "from sklearn.model_selection import train_test_split\n",
    "\n",
    "#create the input and target variables as uppercase X and lowercase y. Reuse the columns variable.\n",
    "X = all_data[list(columns)].values\n",
    "y = all_data[\"Survived\"].values\n",
    "\n",
    "#generate the four testing and training data arrays with the train_test_split() method\n",
    "X_train,X_test,y_train,y_test=train_test_split(X, y, test_size=0.40, random_state=0)"
   ]
  },
  {
   "cell_type": "code",
   "execution_count": 64,
   "metadata": {},
   "outputs": [
    {
     "data": {
      "text/plain": [
       "numpy.ndarray"
      ]
     },
     "execution_count": 64,
     "metadata": {},
     "output_type": "execute_result"
    }
   ],
   "source": [
    "type(X_train)"
   ]
  },
  {
   "cell_type": "code",
   "execution_count": 65,
   "metadata": {},
   "outputs": [],
   "source": [
    "clf_train = tree.DecisionTreeClassifier(criterion=\"entropy\", max_depth=3)\n",
    "\n",
    "#fit the training model using the input and target variables\n",
    "clf_train = clf_train.fit(X_train, y_train)"
   ]
  },
  {
   "cell_type": "code",
   "execution_count": 66,
   "metadata": {},
   "outputs": [
    {
     "name": "stdout",
     "output_type": "stream",
     "text": [
      "Training score = 0.7104591836734694 Testing score = 0.6851145038167938\n"
     ]
    }
   ],
   "source": [
    "train_score = str(clf_train.score(X_train,y_train))\n",
    "test_score = str(clf_train.score(X_test,y_test))\n",
    "\n",
    "#output the values in a test string\n",
    "print('Training score = '+ train_score+' Testing score = '+test_score)"
   ]
  },
  {
   "cell_type": "code",
   "execution_count": null,
   "metadata": {},
   "outputs": [],
   "source": []
  }
 ],
 "metadata": {
  "kernelspec": {
   "display_name": "Python 3",
   "language": "python",
   "name": "python3"
  },
  "language_info": {
   "codemirror_mode": {
    "name": "ipython",
    "version": 3
   },
   "file_extension": ".py",
   "mimetype": "text/x-python",
   "name": "python",
   "nbconvert_exporter": "python",
   "pygments_lexer": "ipython3",
   "version": "3.7.6"
  }
 },
 "nbformat": 4,
 "nbformat_minor": 4
}
